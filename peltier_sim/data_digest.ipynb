{
 "cells": [
  {
   "cell_type": "code",
   "execution_count": 37,
   "metadata": {},
   "outputs": [],
   "source": [
    "from os import listdir\n",
    "from os.path import isfile, join\n",
    "import pandas as pd\n",
    "\n",
    "dir_path = \"raw/10ul/\"\n",
    "file_list = [join(dir_path, f) for f in listdir(dir_path) if isfile(join(dir_path, f))]\n",
    "\n",
    "class DataHandler:\n",
    "    def __init__(self):\n",
    "        pass     \n",
    "\n",
    "    def import_raw(self, path):\n",
    "        full_data = pd.read_csv(path)    \n",
    "        raw_data = pd.DataFrame()\n",
    "        list_of_features = ['Epoch Time', 'Z1 BlkTemp', 'Z1 HeatSink', 'Z1 Imea']\n",
    "        raw_data = pd.concat([raw_data, full_data[list_of_features]], axis=1)    \n",
    "        return raw_data\n",
    "    \n",
    "    def replace_with_period(self, raw_data):\n",
    "        # Calculate and use delta_t instead of epoch time\n",
    "        next_epoch = raw_data['Epoch Time'][1::]\n",
    "        next_epoch.index -= 1\n",
    "        raw_data['Epoch Time'] = next_epoch - raw_data['Epoch Time']\n",
    "        raw_data.rename(columns={'Epoch Time': 'Period'})\n",
    "        return raw_data\n",
    "\n",
    "    def process_data(raw_data):\n",
    "        raw_data = self.replace_with_period(raw_data)\n",
    "        raw_data = self.add_block_rate(raw_data)\n",
    "        return features, result    "
   ]
  },
  {
   "cell_type": "code",
   "execution_count": null,
   "metadata": {},
   "outputs": [],
   "source": []
  },
  {
   "cell_type": "code",
   "execution_count": null,
   "metadata": {},
   "outputs": [],
   "source": []
  },
  {
   "cell_type": "code",
   "execution_count": null,
   "metadata": {},
   "outputs": [],
   "source": []
  },
  {
   "cell_type": "code",
   "execution_count": null,
   "metadata": {},
   "outputs": [],
   "source": []
  }
 ],
 "metadata": {
  "kernelspec": {
   "display_name": "Python 3",
   "language": "python",
   "name": "python3"
  },
  "language_info": {
   "codemirror_mode": {
    "name": "ipython",
    "version": 3
   },
   "file_extension": ".py",
   "mimetype": "text/x-python",
   "name": "python",
   "nbconvert_exporter": "python",
   "pygments_lexer": "ipython3",
   "version": "3.7.5"
  }
 },
 "nbformat": 4,
 "nbformat_minor": 2
}
