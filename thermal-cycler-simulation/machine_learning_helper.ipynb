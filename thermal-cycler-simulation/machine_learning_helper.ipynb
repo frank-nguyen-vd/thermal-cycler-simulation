{
 "cells": [
  {
   "cell_type": "code",
   "execution_count": null,
   "metadata": {},
   "outputs": [],
   "source": [
    "\n",
    "import pandas as pd\n",
    "import joblib\n",
    "from sklearn.tree import DecisionTreeRegressor\n",
    "from sklearn.neural_network import MLPRegressor\n",
    "\n",
    "class MachineLearning:\n",
    "    def __init__(self):\n",
    "        self.accuracy_window = 0    \n",
    "        \n",
    "    def set_accuracy_window(self, value):\n",
    "        self.accuracy_window = value\n",
    "    \n",
    "    def load_data(self, path):\n",
    "        dataset = pd.read_csv(path)        \n",
    "        condition = dataset.iloc[:, :-1].values        \n",
    "        result = dataset.iloc[:, -1].values        \n",
    "    \n",
    "        return condition, result\n",
    "    \n",
    "    def train_model(self, path):\n",
    "        train_condition, train_result = self.load_data(path)\n",
    "        # Training the model\n",
    "        # model = DecisionTreeRegressor(random_state=0)\n",
    "        model = MLPRegressor(hidden_layer_sizes=(100,50,10), activation='logistic', solver='adam', max_iter=500)\n",
    "        model.fit(train_condition, train_result)\n",
    "\n",
    "        return model\n",
    "    \n",
    "    def test_model(self, model, path):\n",
    "        test_condition, test_result = self.load_data(path)\n",
    "        test_prediction = model.predict(test_condition)\n",
    "        window = 0.25\n",
    "        total = len(test_prediction)\n",
    "        correct = 0\n",
    "        for i in range(0, total):\n",
    "            if test_result[i] - self.accuracy_window <= test_prediction[i] <= test_result[i] + self.accuracy_window:\n",
    "                correct += 1\n",
    "        print(f\"The accuracy of model is {(correct * 100 / total):.2f}\")\n",
    "    \n",
    "    def save_model(self, model, path):\n",
    "        # save the model to disk        \n",
    "         joblib.dump(model, path)\n",
    "\n",
    "    def load_model(self, path):\n",
    "        # load the model from disk\n",
    "        return joblib.load(path)\n",
    "    \n",
    "ml = MachineLearning()\n",
    "ml.set_accuracy_window(0.25)\n",
    "model = ml.train_model(train_path)\n",
    "ml.test_model(model, test_path)\n",
    "ml.save_model(model, 'pcr_trained_model.ml')"
   ]
  }
 ],
 "metadata": {
  "kernelspec": {
   "display_name": "Python 3",
   "language": "python",
   "name": "python3"
  },
  "language_info": {
   "codemirror_mode": {
    "name": "ipython",
    "version": 3
   },
   "file_extension": ".py",
   "mimetype": "text/x-python",
   "name": "python",
   "nbconvert_exporter": "python",
   "pygments_lexer": "ipython3",
   "version": "3.7.6"
  }
 },
 "nbformat": 4,
 "nbformat_minor": 4
}
